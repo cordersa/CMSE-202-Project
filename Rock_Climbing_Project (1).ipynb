{
 "cells": [
  {
   "cell_type": "code",
   "execution_count": null,
   "id": "e37b5638",
   "metadata": {},
   "outputs": [],
   "source": [
    "##Question: Do certain attributes (reach, grip strength on different hold types, etc.) allow climbers to outperform other \n",
    "##climbers regardless of the randomly generated wall they are climbing on? AKA, is there an ideal body type for climbing?"
   ]
  },
  {
   "cell_type": "code",
   "execution_count": 9,
   "id": "3052249a",
   "metadata": {},
   "outputs": [],
   "source": [
    "import pandas as pd\n",
    "import matplotlib.pyplot as plt\n",
    "import numpy as np\n",
    "import seaborn as sns\n",
    "import random"
   ]
  },
  {
   "cell_type": "code",
   "execution_count": 146,
   "id": "ce000d05",
   "metadata": {},
   "outputs": [],
   "source": [
    "class Climber:\n",
    "    \"\"\"\n",
    "    Class representing a climber\n",
    "    \"\"\"\n",
    "    def __init__(self, reach, sloper, crimp, jug, position = np.array([5,0]), icon=\"*\"):\n",
    "        self.reach = reach\n",
    "        ##Strength (Percent Chance of Sticking a Move To) on Different Types of Holds/Rock\n",
    "        self.sloper = sloper\n",
    "        self.crimp = crimp\n",
    "        self.jug = jug\n",
    "        ##Location on the wall\n",
    "        self.position = position\n",
    "        ##Icon for visualization\n",
    "        self.icon = icon\n",
    "        self.heights = []\n",
    "        \n",
    "    def make_move(self, holds):\n",
    "        '''Accepts a list of holds on a wall, will attempt to move to a nearby hold higher up on the wall'''\n",
    "        reachable = []\n",
    "        for hold in holds:\n",
    "            \n",
    "            if self.reach > np.linalg.norm(self.position-hold.coords) and self.position[1]-hold.coords[1] < 0 and np.linalg.norm(self.position - hold.coords) != 0:\n",
    "                reachable.append(hold)\n",
    "        \n",
    "        for hold in reachable:\n",
    "            if hold.type == 'sloper':\n",
    "                if random.random() < self.sloper:\n",
    "                    self.position = hold.coords\n",
    "                    return 'stuck'\n",
    "            elif hold.type == 'jug':\n",
    "                if random.random() < self.jug:\n",
    "                    self.position = hold.coords\n",
    "                    return 'stuck'\n",
    "            elif hold.type == 'crimp':\n",
    "                if random.random() < self.crimp:\n",
    "                    self.position = hold.coords\n",
    "                    return 'stuck'\n",
    "                \n",
    "        return 'fall'\n",
    "    \n",
    "    def set_position(self, position = np.array([5, 0])):\n",
    "        '''Sets position, can be used to reset after climbing a wall'''\n",
    "        self.position = np.array(position)\n",
    "        \n",
    "        \n",
    "    def average_h(self):\n",
    "        return float(sum(self.heights))/len(self.heights)"
   ]
  },
  {
   "cell_type": "code",
   "execution_count": 41,
   "id": "875a3211",
   "metadata": {},
   "outputs": [],
   "source": [
    "class Hold:\n",
    "    def __init__(self, coords, type_):\n",
    "        self.coords = np.array(coords)\n",
    "        self.type = type_"
   ]
  },
  {
   "cell_type": "code",
   "execution_count": 42,
   "id": "f6fbc968",
   "metadata": {},
   "outputs": [],
   "source": [
    "class cell:\n",
    "    \"\"\"\n",
    "    Class representing one 10 by 10 cell on a wall\n",
    "    Attributes:\n",
    "    slopers - number of sloper holds\n",
    "    crimps - number of crimp holds\n",
    "    jugs - number of jug holds\n",
    "    height - height of the cell along the wall. should be multiple of 10\n",
    "    holds - array of hold objects in the cell\n",
    "    \n",
    "    methods:\n",
    "    show(): plots cell\n",
    "    \"\"\"\n",
    "    def __init__(self, slopers, crimps, jugs, height = 0):\n",
    "        ##Number of Each Type of Hold/Rock\n",
    "        self.slopers = slopers\n",
    "        self.crimps = crimps\n",
    "        self.jugs = jugs\n",
    "        self.num_cells = 1\n",
    "        ##Setting Coordinates of the Holds\n",
    "        self.total_holds = self.slopers + self.crimps + self.jugs\n",
    "        self.x = np.random.randint(1, 11, size = self.total_holds)\n",
    "        self.y = np.random.randint(1, 11, size = self.total_holds)\n",
    "        self.holds = []\n",
    "        self.hold_types = []\n",
    "        for i in range(slopers):\n",
    "            new_hold = Hold([self.x[i], self.y[i]+height], \"sloper\")\n",
    "            self.holds.append(new_hold)\n",
    "            self.hold_types.append(\"sloper\")\n",
    "        for i in range(crimps):\n",
    "            new_hold = Hold([self.x[i], self.y[i]+height], \"crimp\")\n",
    "            self.holds.append(new_hold)\n",
    "            self.hold_types.append(\"crimp\")\n",
    "        for i in range(jugs):\n",
    "            new_hold = Hold([self.x[i], self.y[i]+height], \"jug\")\n",
    "            self.holds.append(new_hold)       \n",
    "            self.hold_types.append(\"jug\")\n",
    "        \n",
    "    def show(self):\n",
    "        '''Plots cell with all holds'''\n",
    "        sns.scatterplot(x = self.x,y = self.y, hue = self.hold_types, style = self.holds, palette = 'bright', s = 100)\n",
    "        plt.axis([0,10, 0, 10])\n",
    "        plt.show()\n",
    "    \n"
   ]
  },
  {
   "cell_type": "code",
   "execution_count": 43,
   "id": "3e77a57d",
   "metadata": {},
   "outputs": [],
   "source": [
    "class Wall:\n",
    "    \"\"\"\n",
    "    Class representing a whole wall, made up of cells\n",
    "    \"\"\"\n",
    "    def __init__(self, smallwall, cell):\n",
    "        ##Number of Each Type of Hold/Rock\n",
    "        self.slopers = smallwall.slopers + cell.slopers\n",
    "        self.crimps = smallwall.crimps + cell.crimps\n",
    "        self.jugs = smallwall.jugs + cell.jugs\n",
    "        self.num_cells = smallwall.num_cells + cell.num_cells\n",
    "        self.hold_types = smallwall.hold_types + cell.hold_types\n",
    "        ##Setting Coordinates of the Holds\n",
    "        self.total_holds = self.slopers + self.crimps + self.jugs\n",
    "        self.x = np.concatenate((smallwall.x, cell.x))\n",
    "        self.y = np.concatenate((smallwall.y, cell.y + np.repeat(10*(self.num_cells-1), len(cell.y))))\n",
    "        self.holds = np.concatenate((smallwall.holds, cell.holds))\n",
    "        self.hold_cords = []\n",
    "        for i in range(self.total_holds):\n",
    "            self.hold_cords.append([self.x[i], self.y[i]])\n",
    "        \n",
    "    def show(self, show_scale = 1, title = 'Rock Wall'):\n",
    "        '''Plots Wall with all holds shown'''\n",
    "        fig = plt.figure(figsize = (10*show_scale, len(self.x)*show_scale))\n",
    "        sns.scatterplot(x = self.x,y = self.y, hue = self.hold_types, style = self.hold_types, palette = 'bright', s = 100)\n",
    "        plt.axis([0,10, 0, 10*self.num_cells])\n",
    "        plt.title(title)\n",
    "        plt.show()\n",
    "        \n",
    "    def run_wall(self, climber):\n",
    "        '''Takes in a climber object and simulates the climber attempting to climb the wall. \n",
    "        Returns a list of all points the holder occupied during their path'''\n",
    "        path = []\n",
    "        status = \"stuck\"\n",
    "        while status == \"stuck\":\n",
    "            path.append(climber.position)\n",
    "            status = climber.make_move(self.holds)\n",
    "        climber.set_position()\n",
    "        return path\n",
    "    \n",
    "    def plot_path(self, path, show_scale = 1, title = 'Rock Wall'):\n",
    "        '''Plots wall along with climber path for the given path'''\n",
    "        fig = plt.figure(figsize = (10*show_scale, len(self.x)*show_scale))\n",
    "        sns.scatterplot(x = self.x,y = self.y, hue = self.hold_types, style = self.hold_types, palette = 'bright', s = 100)\n",
    "        plt.axis([0,10, 0, 10*self.num_cells])\n",
    "        plt.title(title)\n",
    "        plt.plot(*zip(*path))\n",
    "        plt.show()"
   ]
  },
  {
   "cell_type": "code",
   "execution_count": 100,
   "id": "e6944f8f",
   "metadata": {
    "scrolled": true
   },
   "outputs": [
    {
     "name": "stdout",
     "output_type": "stream",
     "text": [
      "[array([5, 0]), array([6, 4]), array([3, 6]), array([2, 8])]\n"
     ]
    }
   ],
   "source": [
    "cell1 = cell(7,7,7)\n",
    "cell2 = cell(7,7,7,10)\n",
    "cell3 = cell(7,7,7,20)\n",
    "wall1 = wall(cell1, cell2)\n",
    "wall1 = wall(wall1, cell3)\n",
    "plt.legend\n",
    "climber1 = climber(5, 0.8, 0.8, 0.8)\n",
    "print(wall1.run_wall(climber1))"
   ]
  },
  {
   "cell_type": "code",
   "execution_count": 15,
   "id": "07fb4202",
   "metadata": {},
   "outputs": [],
   "source": [
    "##Notes\n",
    "##We decided two holds being placed in the same location is appropriate given that many climbing gyms will drill one hold on \n",
    "##top of another to make the move easier/more attainable for different climbing types"
   ]
  },
  {
   "cell_type": "code",
   "execution_count": 135,
   "id": "e109e7f1",
   "metadata": {},
   "outputs": [],
   "source": [
    "def create_wall(cells, slopers, crimps, jugs):\n",
    "    '''Creates a wall with given specifications'''\n",
    "    cell1 = cell(slopers, crimps, jugs)\n",
    "    cell2 = cell(slopers, crimps, jugs, 10)\n",
    "    smallwall = wall(cell1,cell2)\n",
    "    for i in range(cells-2):\n",
    "        cell1 = cell(slopers, crimps, jugs, (i+2)*10)\n",
    "        smallwall = wall(smallwall, cell1)\n",
    "    return smallwall"
   ]
  },
  {
   "cell_type": "code",
   "execution_count": 29,
   "id": "688499c4",
   "metadata": {},
   "outputs": [],
   "source": [
    "wall1 = create_wall(5,10,10,10)"
   ]
  },
  {
   "cell_type": "code",
   "execution_count": 51,
   "id": "3fba737a",
   "metadata": {},
   "outputs": [],
   "source": [
    "def create_climbers(n, reach, sloper, crimp, jug):\n",
    "    '''Each input other than n is a list of 2 numbers, a min and a max for that attribute\n",
    "        Creates a list of n climbers with attributes '''\n",
    "    climber_list = []\n",
    "    for i in range(n):\n",
    "        reach1 = random.uniform(reach[0], reach[1])\n",
    "        sloper1 = random.uniform(sloper[0], sloper[1])\n",
    "        crimp1 = random.uniform(crimp[0], crimp[1])\n",
    "        jug1 = random.uniform(jug[0], jug[1])\n",
    "        climber1 = Climber(reach1, sloper1, crimp1, jug1)\n",
    "        climber_list.append(climber1)\n",
    "    return climber_list"
   ]
  },
  {
   "cell_type": "code",
   "execution_count": 110,
   "id": "ef54ed59",
   "metadata": {},
   "outputs": [],
   "source": [
    "def simulate(climbers, walls):\n",
    "    '''Takes in a list of climbers and walls, runs all climbers on all walls, keeping track of how high they made it'''\n",
    "    for wall in walls:\n",
    "        for climber in climbers:\n",
    "            path = wall.run_wall(climber)\n",
    "            height = path[-1][1]\n",
    "            climber.heights.append(height)\n",
    "            "
   ]
  },
  {
   "cell_type": "code",
   "execution_count": 148,
   "id": "d76a64aa",
   "metadata": {},
   "outputs": [
    {
     "name": "stdout",
     "output_type": "stream",
     "text": [
      "7.4\n",
      "32.9\n",
      "81.5\n",
      "35.2\n",
      "31.3\n",
      "42.2\n",
      "4.1\n",
      "9.7\n",
      "81.4\n",
      "28.5\n"
     ]
    }
   ],
   "source": [
    "walls = []\n",
    "for i in range(10):\n",
    "    walls.append(create_wall(10,7,7,7))\n",
    "climbers = create_climbers(10,[4,7],[0.5,0.8],[0.5,0.8],[0.5,0.8])\n",
    "simulate(climbers, walls)\n",
    "for climber in climbers:\n",
    "    print(climber.average_h())"
   ]
  },
  {
   "cell_type": "code",
   "execution_count": null,
   "id": "22fe6c06",
   "metadata": {},
   "outputs": [],
   "source": []
  },
  {
   "cell_type": "code",
   "execution_count": null,
   "id": "95249a4a",
   "metadata": {},
   "outputs": [],
   "source": []
  }
 ],
 "metadata": {
  "kernelspec": {
   "display_name": "Python 3",
   "language": "python",
   "name": "python3"
  },
  "language_info": {
   "codemirror_mode": {
    "name": "ipython",
    "version": 3
   },
   "file_extension": ".py",
   "mimetype": "text/x-python",
   "name": "python",
   "nbconvert_exporter": "python",
   "pygments_lexer": "ipython3",
   "version": "3.8.8"
  }
 },
 "nbformat": 4,
 "nbformat_minor": 5
}
