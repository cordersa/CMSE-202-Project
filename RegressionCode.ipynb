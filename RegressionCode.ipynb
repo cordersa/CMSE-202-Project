{
 "cells": [
  {
   "cell_type": "code",
   "execution_count": null,
   "id": "fa1b367d",
   "metadata": {},
   "outputs": [],
   "source": [
    "#PseudoCode-----------------------------------------------------------------------------------------------\n",
    "#We'll need to import the following:\n",
    "\n",
    "from sklearn import linear_model\n",
    "#Linear regression plan: *We might not do this, histogram is of higher importance*\n",
    "\n",
    "#Need to import pandas to store the data and linear_model from sklearn\n",
    "\n",
    "#Store the data we want in a dataframe\n",
    "\n",
    "#Run regression using LinearRegression() function\n",
    "\n",
    "#Data we'll need:\n",
    "\n",
    "#Dataframe which stores characteristics of each climber,and hwo far they got with each wall.\n",
    "\n",
    "#Creating the Dataframe\n",
    "#put the data here\n",
    "\n",
    "#Dictionary containing the data,anywhere that has #data, input the the variables that store the data from our simluations\n",
    "\n",
    "data = {'height': #data,\n",
    "        'sloper': #data,\n",
    "        'crimp': #data,\n",
    "       'jug': #data}\n",
    "\n",
    "climberdf = pd.dataframe(data) #storing the data into a df\n",
    "        \n",
    "#Run the regression here:"
   ]
  }
 ],
 "metadata": {
  "kernelspec": {
   "display_name": "Python 3",
   "language": "python",
   "name": "python3"
  },
  "language_info": {
   "codemirror_mode": {
    "name": "ipython",
    "version": 3
   },
   "file_extension": ".py",
   "mimetype": "text/x-python",
   "name": "python",
   "nbconvert_exporter": "python",
   "pygments_lexer": "ipython3",
   "version": "3.8.8"
  }
 },
 "nbformat": 4,
 "nbformat_minor": 5
}
