{
 "cells": [
  {
   "cell_type": "code",
   "execution_count": 1,
   "id": "3052249a",
   "metadata": {},
   "outputs": [],
   "source": [
    "import pandas as pd\n",
    "import matplotlib.pyplot as plt\n",
    "import numpy as np"
   ]
  },
  {
   "cell_type": "code",
   "execution_count": 2,
   "id": "ce000d05",
   "metadata": {},
   "outputs": [],
   "source": [
    "class climber:\n",
    "    def __init__(self, reach, sloper, crimp, jug):\n",
    "        \n",
    "        self.reach = reach\n",
    "        ##Strength (Percent Chance of Sticking a Move To) on Different Types of Holds/Rock\n",
    "        self.sloper = sloper\n",
    "        self.crimp = crimp\n",
    "        self.jug = jug"
   ]
  },
  {
   "cell_type": "code",
   "execution_count": 38,
   "id": "f6fbc968",
   "metadata": {},
   "outputs": [],
   "source": [
    "class wallcell:\n",
    "    def __init__(self, slopers, crimps, jugs):\n",
    "        ##Number of Each Type of Hold/Rock\n",
    "        self.slopers = slopers\n",
    "        self.crimps = crimps\n",
    "        self.jugs = jugs\n",
    "        \n",
    "        ##Setting Coordinates of the Holds\n",
    "        total_holds = slopers + crimps + jugs\n",
    "        x = np.random.randint(1, 10, size = total_holds)\n",
    "        y = np.random.randint(1, 10, size = total_holds)\n",
    "        holds = np.concatenate((np.repeat(1, slopers), np.repeat(2, crimps), np.repeat(3, jugs)))\n",
    "    \n",
    "    def show(self):\n",
    "        plt.scatter(x, y, c = holds)\n",
    "        plt.axis([0,10, 0, 10])\n",
    "        plt.show()"
   ]
  }
 ],
 "metadata": {
  "kernelspec": {
   "display_name": "Python 3",
   "language": "python",
   "name": "python3"
  },
  "language_info": {
   "codemirror_mode": {
    "name": "ipython",
    "version": 3
   },
   "file_extension": ".py",
   "mimetype": "text/x-python",
   "name": "python",
   "nbconvert_exporter": "python",
   "pygments_lexer": "ipython3",
   "version": "3.8.8"
  }
 },
 "nbformat": 4,
 "nbformat_minor": 5
}
