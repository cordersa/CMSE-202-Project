{
 "cells": [
  {
   "cell_type": "code",
   "execution_count": null,
   "id": "e37b5638",
   "metadata": {},
   "outputs": [],
   "source": [
    "##Question: Do certain attributes (reach, grip strength on different hold types, etc.) allow climbers to outperform other \n",
    "##climbers regardless of the randomly generated wall they are climbing on? AKA, is there an ideal body type for climbing?"
   ]
  },
  {
   "cell_type": "code",
   "execution_count": 1,
   "id": "3052249a",
   "metadata": {},
   "outputs": [],
   "source": [
    "import pandas as pd\n",
    "import matplotlib.pyplot as plt\n",
    "import numpy as np\n",
    "import seaborn as sns\n",
    "import random"
   ]
  },
  {
   "cell_type": "code",
   "execution_count": null,
   "id": "ce000d05",
   "metadata": {},
   "outputs": [],
   "source": [
    "class climber:\n",
    "    def __init__(self, reach, sloper, crimp, jug, position = np.array([5,0]), icon):\n",
    "        \n",
    "        self.reach = reach\n",
    "        ##Strength (Percent Chance of Sticking a Move To) on Different Types of Holds/Rock\n",
    "        self.sloper = sloper\n",
    "        self.crimp = crimp\n",
    "        self.jug = jug\n",
    "        ##Location on the wall\n",
    "        self.position = position\n",
    "        ##Icon for visualization\n",
    "        self.icon = icon\n",
    "        \n",
    "    def make_move(self, holds):\n",
    "        reachable = []\n",
    "        for hold in holds:\n",
    "            if reach > np.linalg.norm(self.position, hold.coords):\n",
    "                reachable.append(hold)\n",
    "        \n",
    "        for hold in reachable:\n",
    "            if hold.type == 'sloper':\n",
    "                if random.rand() < self.sloper:\n",
    "                    self.position = hold.coords\n",
    "                    return 'stuck'\n",
    "            else if hold.type == 'jug':\n",
    "                if random.rand() < self.jug\n",
    "                    self.position = hold.coords\n",
    "                    return 'stuck'\n",
    "            else if hold.type == 'crimp':\n",
    "                if random.rand() < self.crimp\n",
    "                    self.position = hold.coords\n",
    "                    return 'stuck'\n",
    "                \n",
    "        return 'fall'"
   ]
  },
  {
   "cell_type": "code",
   "execution_count": null,
   "id": "875a3211",
   "metadata": {},
   "outputs": [],
   "source": [
    "class Hold:\n",
    "    def __init__(self, coords, type_):\n",
    "        self.coords = np.array(coords)\n",
    "        self.type = type_"
   ]
  },
  {
   "cell_type": "code",
   "execution_count": null,
   "id": "f6fbc968",
   "metadata": {},
   "outputs": [],
   "source": [
    "class cell:\n",
    "    def __init__(self, slopers, crimps, jugs):\n",
    "        ##Number of Each Type of Hold/Rock\n",
    "        self.slopers = slopers\n",
    "        self.crimps = crimps\n",
    "        self.jugs = jugs\n",
    "        self.num_cells = 1\n",
    "        \n",
    "        ##Setting Coordinates of the Holds\n",
    "        self.total_holds = self.slopers + self.crimps + self.jugs\n",
    "        self.x = np.random.randint(1, 10, size = self.total_holds)\n",
    "        self.y = np.random.randint(1, 10, size = self.total_holds)\n",
    "        self.holds = []\n",
    "        self.hold_types = []\n",
    "        for i in range(slopers):\n",
    "            new_hold = Hold([self.x[i], self.y[i]], \"sloper\")\n",
    "            self.holds.append(new_hold)\n",
    "            self.hold_types.append(\"sloper\")\n",
    "        for i in range(crimps):\n",
    "            new_hold = Hold([self.x[i], self.y[i]], \"crimp\")\n",
    "            self.holds.append(new_hold)\n",
    "            self.hold_types.append(\"crimp\")\n",
    "        for i in range(jugs):\n",
    "            new_hold = Hold([self.x[i], self.y[i]], \"jug\")\n",
    "            self.holds.append(new_hold)       \n",
    "            self.hold_types.append(\"jug\")\n",
    "        \n",
    "    def show(self):\n",
    "        sns.scatterplot(x = self.x,y = self.y, hue = self.hold_types, style = self.holds, palette = 'bright', s = 100)\n",
    "        plt.axis([0,10, 0, 10])\n",
    "        plt.show()"
   ]
  },
  {
   "cell_type": "code",
   "execution_count": null,
   "id": "3e77a57d",
   "metadata": {},
   "outputs": [],
   "source": [
    "class wall:\n",
    "    def __init__(self, smallwall, cell):\n",
    "        ##Number of Each Type of Hold/Rock\n",
    "        self.slopers = smallwall.slopers + cell.slopers\n",
    "        self.crimps = smallwall.crimps + cell.crimps\n",
    "        self.jugs = smallwall.jugs + cell.jugs\n",
    "        self.num_cells = smallwall.num_cells + cell.num_cells\n",
    "        self.hold_types = smallwall.hold_types + cell.hold_types\n",
    "        ##Setting Coordinates of the Holds\n",
    "        self.total_holds = self.slopers + self.crimps + self.jugs\n",
    "        self.x = np.concatenate((smallwall.x, cell.x))\n",
    "        self.y = np.concatenate((smallwall.y, cell.y + np.repeat(10*(self.num_cells-1), len(cell.y))))\n",
    "        self.holds = np.concatenate((smallwall.holds, cell.holds))\n",
    "        \n",
    "        self.hold_cords = []\n",
    "        for i in range(self.total_holds):\n",
    "            self.hold_cords.append([self.x[i], self.y[i]])\n",
    "        \n",
    "    def show(self, show_scale = 1, title = 'Rock Wall'):\n",
    "        fig = plt.figure(figsize = (10*show_scale, len(self.x)*show_scale))\n",
    "        sns.scatterplot(x = self.x,y = self.y, hue = self.hold_types, style = self.hold_types, palette = 'bright', s = 100)\n",
    "        plt.axis([0,10, 0, 10*self.num_cells])\n",
    "        plt.title(title)\n",
    "        plt.show()"
   ]
  },
  {
   "cell_type": "code",
   "execution_count": null,
   "id": "e6944f8f",
   "metadata": {},
   "outputs": [],
   "source": [
    "cell1 = cell(3,3,3)\n",
    "cell2 = cell(3,3,3)\n",
    "\n",
    "wall = wall(cell1, cell2)\n",
    "wall.show(1/2)\n",
    "print(wall.hold_cords)\n",
    "plt.legend?"
   ]
  },
  {
   "cell_type": "code",
   "execution_count": null,
   "id": "07fb4202",
   "metadata": {},
   "outputs": [],
   "source": [
    "##Notes\n",
    "##We decided two holds being placed in the same location is appropriate given that many climbing gyms will drill one hold on \n",
    "##top of another to make the move easier/more attainable for different climbing types"
   ]
  }
 ],
 "metadata": {
  "kernelspec": {
   "display_name": "Python 3",
   "language": "python",
   "name": "python3"
  },
  "language_info": {
   "codemirror_mode": {
    "name": "ipython",
    "version": 3
   },
   "file_extension": ".py",
   "mimetype": "text/x-python",
   "name": "python",
   "nbconvert_exporter": "python",
   "pygments_lexer": "ipython3",
   "version": "3.8.8"
  }
 },
 "nbformat": 4,
 "nbformat_minor": 5
}
