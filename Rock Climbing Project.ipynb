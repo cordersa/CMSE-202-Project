{
 "cells": [
  {
   "cell_type": "code",
   "execution_count": null,
   "id": "e37b5638",
   "metadata": {},
   "outputs": [],
   "source": [
    "##Question: Do certain attributes (reach, grip strength on different hold types, etc.) allow climbers to outperform other \n",
    "##climbers regardless of the randomly generated wall they are climbing on? AKA, is there an ideal body type for climbing?"
   ]
  },
  {
   "cell_type": "code",
   "execution_count": 2,
   "id": "3052249a",
   "metadata": {},
   "outputs": [],
   "source": [
    "import pandas as pd\n",
    "import matplotlib.pyplot as plt\n",
    "import numpy as np\n",
    "import seaborn as sns\n",
    "import random"
   ]
  },
  {
   "cell_type": "code",
   "execution_count": 23,
   "id": "ce000d05",
   "metadata": {},
   "outputs": [],
   "source": [
    "class climber:\n",
    "    def __init__(self, reach, sloper, crimp, jug, position = np.array([5,0]), icon=\"*\"):\n",
    "        \n",
    "        self.reach = reach\n",
    "        ##Strength (Percent Chance of Sticking a Move To) on Different Types of Holds/Rock\n",
    "        self.sloper = sloper\n",
    "        self.crimp = crimp\n",
    "        self.jug = jug\n",
    "        ##Location on the wall\n",
    "        self.position = position\n",
    "        ##Icon for visualization\n",
    "        self.icon = icon\n",
    "        \n",
    "    def make_move(self, holds):\n",
    "        reachable = []\n",
    "        for hold in holds:\n",
    "            print(np.linalg.norm(self.position, hold.coords))\n",
    "            if self.reach > np.linalg.norm(self.position, hold.coords):\n",
    "                reachable.append(hold)\n",
    "        \n",
    "        for hold in reachable:\n",
    "            if hold.type == 'sloper':\n",
    "                if random.rand() < self.sloper:\n",
    "                    self.position = hold.coords\n",
    "                    return 'stuck'\n",
    "            elif hold.type == 'jug':\n",
    "                if random.rand() < self.jug:\n",
    "                    self.position = hold.coords\n",
    "                    return 'stuck'\n",
    "            elif hold.type == 'crimp':\n",
    "                if random.rand() < self.crimp:\n",
    "                    self.position = hold.coords\n",
    "                    return 'stuck'\n",
    "                \n",
    "        return 'fall'\n",
    "    \n",
    "    def reset_position(self):\n",
    "        self.position = np.array([5,0])"
   ]
  },
  {
   "cell_type": "code",
   "execution_count": 6,
   "id": "875a3211",
   "metadata": {},
   "outputs": [],
   "source": [
    "class Hold:\n",
    "    def __init__(self, coords, type_):\n",
    "        self.coords = np.array(coords)\n",
    "        self.type = type_"
   ]
  },
  {
   "cell_type": "code",
   "execution_count": 7,
   "id": "f6fbc968",
   "metadata": {},
   "outputs": [],
   "source": [
    "class cell:\n",
    "    def __init__(self, slopers, crimps, jugs):\n",
    "        ##Number of Each Type of Hold/Rock\n",
    "        self.slopers = slopers\n",
    "        self.crimps = crimps\n",
    "        self.jugs = jugs\n",
    "        self.num_cells = 1\n",
    "        \n",
    "        ##Setting Coordinates of the Holds\n",
    "        self.total_holds = self.slopers + self.crimps + self.jugs\n",
    "        self.x = np.random.randint(1, 10, size = self.total_holds)\n",
    "        self.y = np.random.randint(1, 10, size = self.total_holds)\n",
    "        self.holds = []\n",
    "        self.hold_types = []\n",
    "        for i in range(slopers):\n",
    "            new_hold = Hold([self.x[i], self.y[i]], \"sloper\")\n",
    "            self.holds.append(new_hold)\n",
    "            self.hold_types.append(\"sloper\")\n",
    "        for i in range(crimps):\n",
    "            new_hold = Hold([self.x[i], self.y[i]], \"crimp\")\n",
    "            self.holds.append(new_hold)\n",
    "            self.hold_types.append(\"crimp\")\n",
    "        for i in range(jugs):\n",
    "            new_hold = Hold([self.x[i], self.y[i]], \"jug\")\n",
    "            self.holds.append(new_hold)       \n",
    "            self.hold_types.append(\"jug\")\n",
    "        \n",
    "    def show(self):\n",
    "        sns.scatterplot(x = self.x,y = self.y, hue = self.hold_types, style = self.holds, palette = 'bright', s = 100)\n",
    "        plt.axis([0,10, 0, 10])\n",
    "        plt.show()"
   ]
  },
  {
   "cell_type": "code",
   "execution_count": 19,
   "id": "3e77a57d",
   "metadata": {},
   "outputs": [],
   "source": [
    "class wall:\n",
    "    def __init__(self, smallwall, cell):\n",
    "        ##Number of Each Type of Hold/Rock\n",
    "        self.slopers = smallwall.slopers + cell.slopers\n",
    "        self.crimps = smallwall.crimps + cell.crimps\n",
    "        self.jugs = smallwall.jugs + cell.jugs\n",
    "        self.num_cells = smallwall.num_cells + cell.num_cells\n",
    "        self.hold_types = smallwall.hold_types + cell.hold_types\n",
    "        ##Setting Coordinates of the Holds\n",
    "        self.total_holds = self.slopers + self.crimps + self.jugs\n",
    "        self.x = np.concatenate((smallwall.x, cell.x))\n",
    "        self.y = np.concatenate((smallwall.y, cell.y + np.repeat(10*(self.num_cells-1), len(cell.y))))\n",
    "        self.holds = np.concatenate((smallwall.holds, cell.holds))\n",
    "        \n",
    "        self.hold_cords = []\n",
    "        for i in range(self.total_holds):\n",
    "            self.hold_cords.append([self.x[i], self.y[i]])\n",
    "        \n",
    "    def show(self, show_scale = 1, title = 'Rock Wall'):\n",
    "        fig = plt.figure(figsize = (10*show_scale, len(self.x)*show_scale))\n",
    "        sns.scatterplot(x = self.x,y = self.y, hue = self.hold_types, style = self.hold_types, palette = 'bright', s = 100)\n",
    "        plt.axis([0,10, 0, 10*self.num_cells])\n",
    "        plt.title(title)\n",
    "        plt.show()\n",
    "        \n",
    "    def run_wall(self, climber):\n",
    "        path = []\n",
    "        status = \"stuck\"\n",
    "        while status == \"stuck\":\n",
    "            path.append(climber.position)\n",
    "            status = climber.make_move(self.holds)\n",
    "        #stuff\n",
    "        print(path)\n",
    "        #plot climber positions\n",
    "    #Pseudocode from this point on----------------------------------------------------------------------\n",
    "    #def run_wall(self,): #don't know the other paramters just yet.\n",
    "#        path = [] #will hold coordinates of the climbers path\n",
    "#        for i in cimber.make_mv:\n",
    "#            path.append(climber.position)#assuming that the climbers position is given as a coordinate, this will hold his current position afetr every move\n",
    "        #After this, something to calculate the total distance covered (i guess only the distance between first and last point is what matters)\n",
    "#        fig = plt.figure(figsize = (10*show_scale, len(self.x)*show_scale))#This line down will create a plot showing the climbers line\n",
    "#        plt.axis([0,10, 0, 10*self.num_cells])\n",
    "#        plt.title(\"Climber Path\")      "
   ]
  },
  {
   "cell_type": "code",
   "execution_count": 24,
   "id": "e6944f8f",
   "metadata": {},
   "outputs": [
    {
     "data": {
      "image/png": "[encoded data removed]",
      "text/plain": [
       "<Figure size 360x648 with 1 Axes>"
      ]
     },
     "metadata": {
      "needs_background": "light"
     },
     "output_type": "display_data"
    },
    {
     "name": "stderr",
     "output_type": "stream",
     "text": [
      "/opt/anaconda3/lib/python3.8/site-packages/numpy/linalg/linalg.py:2522: FutureWarning: elementwise comparison failed; returning scalar instead, but in the future will perform elementwise comparison\n",
      "  (ord in ('f', 'fro') and ndim == 2) or\n"
     ]
    },
    {
     "ename": "ValueError",
     "evalue": "The truth value of an array with more than one element is ambiguous. Use a.any() or a.all()",
     "output_type": "error",
     "traceback": [
      "\u001b[0;31m---------------------------------------------------------------------------\u001b[0m",
      "\u001b[0;31mValueError\u001b[0m                                Traceback (most recent call last)",
      "\u001b[0;32m<ipython-input-24-7d093f310a4b>\u001b[0m in \u001b[0;36m<module>\u001b[0;34m\u001b[0m\n\u001b[1;32m      6\u001b[0m \u001b[0mplt\u001b[0m\u001b[0;34m.\u001b[0m\u001b[0mlegend\u001b[0m\u001b[0;34m\u001b[0m\u001b[0;34m\u001b[0m\u001b[0m\n\u001b[1;32m      7\u001b[0m \u001b[0mclimber1\u001b[0m \u001b[0;34m=\u001b[0m \u001b[0mclimber\u001b[0m\u001b[0;34m(\u001b[0m\u001b[0;36m4\u001b[0m\u001b[0;34m,\u001b[0m \u001b[0;36m0.8\u001b[0m\u001b[0;34m,\u001b[0m \u001b[0;36m0.8\u001b[0m\u001b[0;34m,\u001b[0m \u001b[0;36m0.8\u001b[0m\u001b[0;34m)\u001b[0m\u001b[0;34m\u001b[0m\u001b[0;34m\u001b[0m\u001b[0m\n\u001b[0;32m----> 8\u001b[0;31m \u001b[0mprint\u001b[0m\u001b[0;34m(\u001b[0m\u001b[0mclimber1\u001b[0m\u001b[0;34m.\u001b[0m\u001b[0mmake_move\u001b[0m\u001b[0;34m(\u001b[0m\u001b[0mwall1\u001b[0m\u001b[0;34m.\u001b[0m\u001b[0mholds\u001b[0m\u001b[0;34m)\u001b[0m\u001b[0;34m)\u001b[0m\u001b[0;34m\u001b[0m\u001b[0;34m\u001b[0m\u001b[0m\n\u001b[0m\u001b[1;32m      9\u001b[0m \u001b[0;31m#wall1.run_wall(climber1)\u001b[0m\u001b[0;34m\u001b[0m\u001b[0;34m\u001b[0m\u001b[0;34m\u001b[0m\u001b[0m\n",
      "\u001b[0;32m<ipython-input-23-23a537734586>\u001b[0m in \u001b[0;36mmake_move\u001b[0;34m(self, holds)\u001b[0m\n\u001b[1;32m     15\u001b[0m         \u001b[0mreachable\u001b[0m \u001b[0;34m=\u001b[0m \u001b[0;34m[\u001b[0m\u001b[0;34m]\u001b[0m\u001b[0;34m\u001b[0m\u001b[0;34m\u001b[0m\u001b[0m\n\u001b[1;32m     16\u001b[0m         \u001b[0;32mfor\u001b[0m \u001b[0mhold\u001b[0m \u001b[0;32min\u001b[0m \u001b[0mholds\u001b[0m\u001b[0;34m:\u001b[0m\u001b[0;34m\u001b[0m\u001b[0;34m\u001b[0m\u001b[0m\n\u001b[0;32m---> 17\u001b[0;31m             \u001b[0mprint\u001b[0m\u001b[0;34m(\u001b[0m\u001b[0mnp\u001b[0m\u001b[0;34m.\u001b[0m\u001b[0mlinalg\u001b[0m\u001b[0;34m.\u001b[0m\u001b[0mnorm\u001b[0m\u001b[0;34m(\u001b[0m\u001b[0mself\u001b[0m\u001b[0;34m.\u001b[0m\u001b[0mposition\u001b[0m\u001b[0;34m,\u001b[0m \u001b[0mhold\u001b[0m\u001b[0;34m.\u001b[0m\u001b[0mcoords\u001b[0m\u001b[0;34m)\u001b[0m\u001b[0;34m)\u001b[0m\u001b[0;34m\u001b[0m\u001b[0;34m\u001b[0m\u001b[0m\n\u001b[0m\u001b[1;32m     18\u001b[0m             \u001b[0;32mif\u001b[0m \u001b[0mself\u001b[0m\u001b[0;34m.\u001b[0m\u001b[0mreach\u001b[0m \u001b[0;34m>\u001b[0m \u001b[0mnp\u001b[0m\u001b[0;34m.\u001b[0m\u001b[0mlinalg\u001b[0m\u001b[0;34m.\u001b[0m\u001b[0mnorm\u001b[0m\u001b[0;34m(\u001b[0m\u001b[0mself\u001b[0m\u001b[0;34m.\u001b[0m\u001b[0mposition\u001b[0m\u001b[0;34m,\u001b[0m \u001b[0mhold\u001b[0m\u001b[0;34m.\u001b[0m\u001b[0mcoords\u001b[0m\u001b[0;34m)\u001b[0m\u001b[0;34m:\u001b[0m\u001b[0;34m\u001b[0m\u001b[0;34m\u001b[0m\u001b[0m\n\u001b[1;32m     19\u001b[0m                 \u001b[0mreachable\u001b[0m\u001b[0;34m.\u001b[0m\u001b[0mappend\u001b[0m\u001b[0;34m(\u001b[0m\u001b[0mhold\u001b[0m\u001b[0;34m)\u001b[0m\u001b[0;34m\u001b[0m\u001b[0;34m\u001b[0m\u001b[0m\n",
      "\u001b[0;32m<__array_function__ internals>\u001b[0m in \u001b[0;36mnorm\u001b[0;34m(*args, **kwargs)\u001b[0m\n",
      "\u001b[0;32m/opt/anaconda3/lib/python3.8/site-packages/numpy/linalg/linalg.py\u001b[0m in \u001b[0;36mnorm\u001b[0;34m(x, ord, axis, keepdims)\u001b[0m\n\u001b[1;32m   2519\u001b[0m     \u001b[0;32mif\u001b[0m \u001b[0maxis\u001b[0m \u001b[0;32mis\u001b[0m \u001b[0;32mNone\u001b[0m\u001b[0;34m:\u001b[0m\u001b[0;34m\u001b[0m\u001b[0;34m\u001b[0m\u001b[0m\n\u001b[1;32m   2520\u001b[0m         \u001b[0mndim\u001b[0m \u001b[0;34m=\u001b[0m \u001b[0mx\u001b[0m\u001b[0;34m.\u001b[0m\u001b[0mndim\u001b[0m\u001b[0;34m\u001b[0m\u001b[0;34m\u001b[0m\u001b[0m\n\u001b[0;32m-> 2521\u001b[0;31m         if ((ord is None) or\n\u001b[0m\u001b[1;32m   2522\u001b[0m             \u001b[0;34m(\u001b[0m\u001b[0mord\u001b[0m \u001b[0;32min\u001b[0m \u001b[0;34m(\u001b[0m\u001b[0;34m'f'\u001b[0m\u001b[0;34m,\u001b[0m \u001b[0;34m'fro'\u001b[0m\u001b[0;34m)\u001b[0m \u001b[0;32mand\u001b[0m \u001b[0mndim\u001b[0m \u001b[0;34m==\u001b[0m \u001b[0;36m2\u001b[0m\u001b[0;34m)\u001b[0m \u001b[0;32mor\u001b[0m\u001b[0;34m\u001b[0m\u001b[0;34m\u001b[0m\u001b[0m\n\u001b[1;32m   2523\u001b[0m             (ord == 2 and ndim == 1)):\n",
      "\u001b[0;31mValueError\u001b[0m: The truth value of an array with more than one element is ambiguous. Use a.any() or a.all()"
     ]
    }
   ],
   "source": [
    "cell1 = cell(3,3,3)\n",
    "cell2 = cell(3,3,3)\n",
    "\n",
    "wall1 = wall(cell1, cell2)\n",
    "wall1.show(1/2)\n",
    "plt.legend\n",
    "climber1 = climber(4, 0.8, 0.8, 0.8)\n",
    "print(climber1.make_move(wall1.holds))\n",
    "#wall1.run_wall(climber1)"
   ]
  },
  {
   "cell_type": "code",
   "execution_count": null,
   "id": "07fb4202",
   "metadata": {},
   "outputs": [],
   "source": [
    "##Notes\n",
    "##We decided two holds being placed in the same location is appropriate given that many climbing gyms will drill one hold on \n",
    "##top of another to make the move easier/more attainable for different climbing types"
   ]
  }
 ],
 "metadata": {
  "kernelspec": {
   "display_name": "Python 3",
   "language": "python",
   "name": "python3"
  },
  "language_info": {
   "codemirror_mode": {
    "name": "ipython",
    "version": 3
   },
   "file_extension": ".py",
   "mimetype": "text/x-python",
   "name": "python",
   "nbconvert_exporter": "python",
   "pygments_lexer": "ipython3",
   "version": "3.8.8"
  }
 },
 "nbformat": 4,
 "nbformat_minor": 5
}
