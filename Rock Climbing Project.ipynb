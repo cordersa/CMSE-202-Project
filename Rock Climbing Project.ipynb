{
 "cells": [
  {
   "cell_type": "code",
   "execution_count": null,
   "id": "ce000d05",
   "metadata": {},
   "outputs": [],
   "source": [
    "class climber:\n",
    "    def init(self, armlength, leglength, height):\n",
    "        \n",
    "    def "
   ]
  },
  {
   "cell_type": "code",
   "execution_count": null,
   "id": "f6fbc968",
   "metadata": {},
   "outputs": [],
   "source": [
    "class wallcell:\n",
    "    def __init__(slopers, crimps, jugs):\n",
    "        ##Number of Each Type of Hold\n",
    "        wallcell.slopers = slopers\n",
    "        wallcell.crimps = crimps\n",
    "        wallcell.jugs = jugs\n",
    "    \n",
    "    # contains three different kinds of rocks"
   ]
  }
 ],
 "metadata": {
  "kernelspec": {
   "display_name": "Python 3",
   "language": "python",
   "name": "python3"
  },
  "language_info": {
   "codemirror_mode": {
    "name": "ipython",
    "version": 3
   },
   "file_extension": ".py",
   "mimetype": "text/x-python",
   "name": "python",
   "nbconvert_exporter": "python",
   "pygments_lexer": "ipython3",
   "version": "3.8.8"
  }
 },
 "nbformat": 4,
 "nbformat_minor": 5
}
