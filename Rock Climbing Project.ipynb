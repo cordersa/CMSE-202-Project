{
 "cells": [
  {
   "cell_type": "code",
   "execution_count": 10,
   "id": "3052249a",
   "metadata": {},
   "outputs": [],
   "source": [
    "import pandas as pd\n",
    "import matplotlib.pyplot as plt\n",
    "import numpy as np\n",
    "import seaborn as sns"
   ]
  },
  {
   "cell_type": "code",
   "execution_count": 11,
   "id": "ce000d05",
   "metadata": {},
   "outputs": [],
   "source": [
    "class climber:\n",
    "    def __init__(self, reach, sloper, crimp, jug):\n",
    "        \n",
    "        self.reach = reach\n",
    "        ##Strength (Percent Chance of Sticking a Move To) on Different Types of Holds/Rock\n",
    "        self.sloper = sloper\n",
    "        self.crimp = crimp\n",
    "        self.jug = jug"
   ]
  },
  {
   "cell_type": "code",
   "execution_count": 37,
   "id": "f6fbc968",
   "metadata": {},
   "outputs": [],
   "source": [
    "class cell:\n",
    "    def __init__(self, slopers, crimps, jugs):\n",
    "        ##Number of Each Type of Hold/Rock\n",
    "        self.slopers = slopers\n",
    "        self.crimps = crimps\n",
    "        self.jugs = jugs\n",
    "        self.num_cells = 1\n",
    "        \n",
    "        ##Setting Coordinates of the Holds\n",
    "        self.total_holds = self.slopers + self.crimps + self.jugs\n",
    "        self.x = np.random.randint(1, 10, size = total_holds)\n",
    "        self.y = np.random.randint(1, 10, size = total_holds)\n",
    "        self.holds = np.concatenate((np.repeat(1, slopers), np.repeat(2, crimps), np.repeat(3, jugs)))\n",
    "        \n",
    "        self.hold_cords = []\n",
    "        for i in range(self.total_holds):\n",
    "            self.hold_cords.append([self.x[i], self.y[i]])\n",
    "        \n",
    "    def show(self):\n",
    "        sns.scatterplot(x = self.x,y = self.y, hue = self.holds, style = self.holds, palette = 'bright', s = 100)\n",
    "        plt.axis([0,10, 0, 10])\n",
    "        plt.show()"
   ]
  },
  {
   "cell_type": "code",
   "execution_count": 61,
   "id": "3e77a57d",
   "metadata": {},
   "outputs": [],
   "source": [
    "class wall:\n",
    "    def __init__(self, smallwall, cell):\n",
    "        ##Number of Each Type of Hold/Rock\n",
    "        self.slopers = smallwall.slopers + cell.slopers\n",
    "        self.crimps = smallwall.crimps + cell.crimps\n",
    "        self.jugs = smallwall.jugs + cell.jugs\n",
    "        self.num_cells = smallwall.num_cells + cell.num_cells\n",
    "        \n",
    "        ##Setting Coordinates of the Holds\n",
    "        self.total_holds = self.slopers + self.crimps + self.jugs\n",
    "        self.x = np.concatenate((smallwall.x, cell.x))\n",
    "        self.y = np.concatenate((smallwall.y, cell.y + np.repeat(10*(self.num_cells-1), len(cell.y))))\n",
    "        self.holds = np.concatenate((smallwall.holds, cell.holds))\n",
    "        \n",
    "        self.hold_cords = []\n",
    "        for i in range(self.total_holds):\n",
    "            self.hold_cords.append([self.x[i], self.y[i]])\n",
    "        \n",
    "    def show(self):\n",
    "        sns.scatterplot(x = self.x,y = self.y, hue = self.holds, style = self.holds, palette = 'bright', s = 100)\n",
    "        plt.axis([0,10, 0, 10*self.num_cells])\n",
    "        plt.show()"
   ]
  },
  {
   "cell_type": "code",
   "execution_count": 62,
   "id": "e6944f8f",
   "metadata": {},
   "outputs": [
    {
     "data": {
      "image/png": "[encoded data removed]",
      "text/plain": [
       "<Figure size 432x288 with 1 Axes>"
      ]
     },
     "metadata": {
      "needs_background": "light"
     },
     "output_type": "display_data"
    },
    {
     "data": {
      "text/plain": [
       "[[1, 9],\n",
       " [5, 2],\n",
       " [8, 1],\n",
       " [7, 1],\n",
       " [8, 1],\n",
       " [1, 2],\n",
       " [7, 1],\n",
       " [5, 7],\n",
       " [6, 4],\n",
       " [5, 12],\n",
       " [3, 18],\n",
       " [4, 13],\n",
       " [4, 17],\n",
       " [1, 11],\n",
       " [7, 11],\n",
       " [6, 17],\n",
       " [4, 18],\n",
       " [4, 13]]"
      ]
     },
     "execution_count": 62,
     "metadata": {},
     "output_type": "execute_result"
    }
   ],
   "source": [
    "cell1 = cell(3,3,3)\n",
    "cell2 = cell(3,3,3)\n",
    "\n",
    "wall = wall(cell1, cell2)\n",
    "wall.show()\n",
    "wall.hold_cords"
   ]
  },
  {
   "cell_type": "code",
   "execution_count": 25,
   "id": "07fb4202",
   "metadata": {},
   "outputs": [],
   "source": [
    "##Notes\n",
    "##Need to Make it So that Two Holds Can't Be Placed in the Same Spot"
   ]
  }
 ],
 "metadata": {
  "kernelspec": {
   "display_name": "Python 3",
   "language": "python",
   "name": "python3"
  },
  "language_info": {
   "codemirror_mode": {
    "name": "ipython",
    "version": 3
   },
   "file_extension": ".py",
   "mimetype": "text/x-python",
   "name": "python",
   "nbconvert_exporter": "python",
   "pygments_lexer": "ipython3",
   "version": "3.8.8"
  }
 },
 "nbformat": 4,
 "nbformat_minor": 5
}
