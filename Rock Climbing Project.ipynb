{
 "cells": [
  {
   "cell_type": "code",
   "execution_count": 42,
   "id": "3052249a",
   "metadata": {},
   "outputs": [],
   "source": [
    "import pandas as pd\n",
    "import matplotlib.pyplot as plt\n",
    "import numpy as np\n",
    "import seaborn as sns"
   ]
  },
  {
   "cell_type": "code",
   "execution_count": 43,
   "id": "ce000d05",
   "metadata": {},
   "outputs": [],
   "source": [
    "class climber:\n",
    "    def __init__(self, reach, sloper, crimp, jug, position = [5,0], icon):\n",
    "        \n",
    "        self.reach = reach\n",
    "        ##Strength (Percent Chance of Sticking a Move To) on Different Types of Holds/Rock\n",
    "        self.sloper = sloper\n",
    "        self.crimp = crimp\n",
    "        self.jug = jug\n",
    "        ##Location on the wall\n",
    "        self.position = position\n",
    "        ##Icon for visualization\n",
    "        self.icon = icon\n",
    "        \n",
    "    def make_move(self):\n",
    "        "
   ]
  },
  {
   "cell_type": "code",
   "execution_count": 44,
   "id": "f6fbc968",
   "metadata": {},
   "outputs": [],
   "source": [
    "class cell:\n",
    "    def __init__(self, slopers, crimps, jugs):\n",
    "        ##Number of Each Type of Hold/Rock\n",
    "        self.slopers = slopers\n",
    "        self.crimps = crimps\n",
    "        self.jugs = jugs\n",
    "        self.num_cells = 1\n",
    "        \n",
    "        ##Setting Coordinates of the Holds\n",
    "        self.total_holds = self.slopers + self.crimps + self.jugs\n",
    "        self.x = np.random.randint(1, 10, size = self.total_holds)\n",
    "        self.y = np.random.randint(1, 10, size = self.total_holds)\n",
    "        self.holds = np.concatenate((np.repeat('slopers', slopers), np.repeat('crimps', crimps), np.repeat('jugs', jugs)))\n",
    "        \n",
    "        self.hold_cords = []\n",
    "        for i in range(self.total_holds):\n",
    "            self.hold_cords.append([self.x[i], self.y[i]])\n",
    "        \n",
    "    def show(self):\n",
    "        sns.scatterplot(x = self.x,y = self.y, hue = self.holds, style = self.holds, palette = 'bright', s = 100)\n",
    "        plt.axis([0,10, 0, 10])\n",
    "        plt.show()"
   ]
  },
  {
   "cell_type": "code",
   "execution_count": 45,
   "id": "3e77a57d",
   "metadata": {},
   "outputs": [],
   "source": [
    "class wall:\n",
    "    def __init__(self, smallwall, cell):\n",
    "        ##Number of Each Type of Hold/Rock\n",
    "        self.slopers = smallwall.slopers + cell.slopers\n",
    "        self.crimps = smallwall.crimps + cell.crimps\n",
    "        self.jugs = smallwall.jugs + cell.jugs\n",
    "        self.num_cells = smallwall.num_cells + cell.num_cells\n",
    "        \n",
    "        ##Setting Coordinates of the Holds\n",
    "        self.total_holds = self.slopers + self.crimps + self.jugs\n",
    "        self.x = np.concatenate((smallwall.x, cell.x))\n",
    "        self.y = np.concatenate((smallwall.y, cell.y + np.repeat(10*(self.num_cells-1), len(cell.y))))\n",
    "        self.holds = np.concatenate((smallwall.holds, cell.holds))\n",
    "        \n",
    "        self.hold_cords = []\n",
    "        for i in range(self.total_holds):\n",
    "            self.hold_cords.append([self.x[i], self.y[i]])\n",
    "        \n",
    "    def show(self, show_scale = 1, title = 'Rock Wall'):\n",
    "        fig = plt.figure(figsize = (10*show_scale, len(self.x)*show_scale))\n",
    "        sns.scatterplot(x = self.x,y = self.y, hue = self.holds, style = self.holds, palette = 'bright', s = 100)\n",
    "        plt.axis([0,10, 0, 10*self.num_cells])\n",
    "        plt.title(title)\n",
    "        plt.show()"
   ]
  },
  {
   "cell_type": "code",
   "execution_count": 46,
   "id": "e6944f8f",
   "metadata": {},
   "outputs": [
    {
     "data": {
      "image/png": "[encoded data removed]",
      "text/plain": [
       "<Figure size 360x648 with 1 Axes>"
      ]
     },
     "metadata": {
      "needs_background": "light"
     },
     "output_type": "display_data"
    }
   ],
   "source": [
    "cell1 = cell(3,3,3)\n",
    "cell2 = cell(3,3,3)\n",
    "\n",
    "wall = wall(cell1, cell2)\n",
    "wall.show(1/2)\n",
    "wall.hold_cords\n",
    "plt.legend?"
   ]
  },
  {
   "cell_type": "code",
   "execution_count": 25,
   "id": "07fb4202",
   "metadata": {},
   "outputs": [],
   "source": [
    "##Notes\n",
    "##We decided two holds being placed in the same location is appropriate given that many climbing gyms will drill one hold on \n",
    "##top of another to make the move easier/more attainable for different climbing types"
   ]
  }
 ],
 "metadata": {
  "kernelspec": {
   "display_name": "Python 3",
   "language": "python",
   "name": "python3"
  },
  "language_info": {
   "codemirror_mode": {
    "name": "ipython",
    "version": 3
   },
   "file_extension": ".py",
   "mimetype": "text/x-python",
   "name": "python",
   "nbconvert_exporter": "python",
   "pygments_lexer": "ipython3",
   "version": "3.8.8"
  }
 },
 "nbformat": 4,
 "nbformat_minor": 5
}
