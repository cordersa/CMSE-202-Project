{
 "cells": [
  {
   "cell_type": "markdown",
   "id": "9e6553a3",
   "metadata": {},
   "source": [
    "##Question: Do certain attributes (reach, grip strength on different hold types, etc.) allow climbers to outperform other \n",
    "##climbers regardless of the randomly generated wall they are climbing on? AKA, is there an ideal body type for climbing?"
   ]
  },
  {
   "cell_type": "code",
   "execution_count": 25,
   "id": "3052249a",
   "metadata": {},
   "outputs": [],
   "source": [
    "import pandas as pd\n",
    "import matplotlib.animation as animation\n",
    "import matplotlib.pyplot as plt\n",
    "import numpy as np\n",
    "import seaborn as sns\n",
    "import random\n",
    "import math\n",
    "import time"
   ]
  },
  {
   "cell_type": "markdown",
   "id": "a795ce5e",
   "metadata": {},
   "source": [
    "These are all of our classes"
   ]
  },
  {
   "cell_type": "code",
   "execution_count": 26,
   "id": "ce000d05",
   "metadata": {},
   "outputs": [],
   "source": [
    "class Climber:\n",
    "    \"\"\"\n",
    "    Class representing a climber\n",
    "    \"\"\"\n",
    "    def __init__(self, reach, sloper, crimp, jug, position = np.array([5,0]), icon=\"*\"):\n",
    "        self.reach = reach\n",
    "        ##Strength (Percent Chance of Sticking a Move To) on Different Types of Holds/Rock\n",
    "        self.sloper = sloper\n",
    "        self.crimp = crimp\n",
    "        self.jug = jug\n",
    "        ##Location on the wall\n",
    "        self.position = position\n",
    "        ##Icon for visualization\n",
    "        self.icon = icon\n",
    "        self.heights = []\n",
    "        \n",
    "    def make_move(self, holds):\n",
    "        '''Accepts a list of holds on a wall, will attempt to move to a nearby hold higher up on the wall'''\n",
    "        reachable = []\n",
    "        for hold in holds:\n",
    "            if self.reach > np.linalg.norm(self.position-hold.coords) and self.position[1]-hold.coords[1] < 0 and np.linalg.norm(self.position - hold.coords) != 0:\n",
    "                reachable.append(hold)\n",
    "        reached = []\n",
    "        reached_dists = []\n",
    "        for hold in reachable:\n",
    "            if hold.type == 'jug':\n",
    "                if random.random() <= self.jug:\n",
    "                    reached.append(hold.coords)\n",
    "            elif hold.type == 'sloper':\n",
    "                if random.random() <= self.sloper:\n",
    "                    reached.append(hold.coords)\n",
    "            elif hold.type == 'crimp':\n",
    "                if random.random() <= self.crimp:\n",
    "                    reached.append(hold.coords)\n",
    "        if not reached:\n",
    "            return 'fall'\n",
    "        \n",
    "        for i in reached:\n",
    "            x = math.dist(self.position, i)\n",
    "            reached_dists.append(x)\n",
    "        self.position = reached[np.argmin(reached_dists)]\n",
    "        \n",
    "        return 'stuck'\n",
    "    \n",
    "    def set_position(self, position = np.array([5, 0])):\n",
    "        '''Sets position, can be used to reset after climbing a wall'''\n",
    "        self.position = np.array(position)\n",
    "        \n",
    "        \n",
    "    def average_h(self):\n",
    "        return float(sum(self.heights))/len(self.heights)"
   ]
  },
  {
   "cell_type": "code",
   "execution_count": 27,
   "id": "875a3211",
   "metadata": {},
   "outputs": [],
   "source": [
    "class Hold:\n",
    "    def __init__(self, coords, type_):\n",
    "        self.coords = np.array(coords)\n",
    "        self.type = type_"
   ]
  },
  {
   "cell_type": "code",
   "execution_count": 28,
   "id": "f6fbc968",
   "metadata": {},
   "outputs": [],
   "source": [
    "class Cell:\n",
    "    \"\"\"\n",
    "    Class representing one 10 by 10 cell on a wall\n",
    "    Attributes:\n",
    "    slopers - number of sloper holds\n",
    "    crimps - number of crimp holds\n",
    "    jugs - number of jug holds\n",
    "    height - height of the cell along the wall. should be multiple of 10\n",
    "    holds - array of hold objects in the cell\n",
    "    \n",
    "    methods:\n",
    "    show(): plots cell\n",
    "    \"\"\"\n",
    "    def __init__(self, slopers, crimps, jugs, height = 0):\n",
    "        ##Number of Each Type of Hold/Rock\n",
    "        self.slopers = slopers\n",
    "        self.crimps = crimps\n",
    "        self.jugs = jugs\n",
    "        self.num_cells = 1\n",
    "        ##Setting Coordinates of the Holds\n",
    "        self.total_holds = self.slopers + self.crimps + self.jugs\n",
    "        self.x = np.random.randint(1, 11, size = self.total_holds)\n",
    "        self.y = np.random.randint(1, 11, size = self.total_holds)\n",
    "        self.holds = []\n",
    "        self.hold_types = []\n",
    "        for i in range(slopers):\n",
    "            new_hold = Hold([self.x[i], self.y[i]+height], \"sloper\")\n",
    "            self.holds.append(new_hold)\n",
    "            self.hold_types.append(\"sloper\")\n",
    "        for j in range(crimps):\n",
    "            new_hold = Hold([self.x[j+i], self.y[j+i]+height], \"crimp\")\n",
    "            self.holds.append(new_hold)\n",
    "            self.hold_types.append(\"crimp\")\n",
    "        for k in range(jugs):\n",
    "            new_hold = Hold([self.x[k+j+i], self.y[k+j+i]+height], \"jug\")\n",
    "            self.holds.append(new_hold)       \n",
    "            self.hold_types.append(\"jug\")\n",
    "        \n",
    "    def show(self):\n",
    "        '''Plots cell with all holds'''\n",
    "        sns.scatterplot(x = self.x,y = self.y, hue = self.hold_types, style = self.holds, palette = 'bright', s = 100)\n",
    "        plt.axis([0,10, 0, 10])\n",
    "        plt.show()\n",
    "    \n"
   ]
  },
  {
   "cell_type": "code",
   "execution_count": 37,
   "id": "3e77a57d",
   "metadata": {},
   "outputs": [],
   "source": [
    "class Wall:\n",
    "    \"\"\"\n",
    "    Class representing a whole wall, made up of cells\n",
    "    \"\"\"\n",
    "    def __init__(self, smallwall, cell):\n",
    "        ##Number of Each Type of Hold/Rock\n",
    "        self.slopers = smallwall.slopers + cell.slopers\n",
    "        self.crimps = smallwall.crimps + cell.crimps\n",
    "        self.jugs = smallwall.jugs + cell.jugs\n",
    "        self.num_cells = smallwall.num_cells + cell.num_cells\n",
    "        self.hold_types = smallwall.hold_types + cell.hold_types\n",
    "        ##Setting Coordinates of the Holds\n",
    "        self.total_holds = self.slopers + self.crimps + self.jugs\n",
    "        self.x = np.concatenate((smallwall.x, cell.x))\n",
    "        self.y = np.concatenate((smallwall.y, cell.y + np.repeat(10*(self.num_cells-1), len(cell.y))))\n",
    "        self.holds = np.concatenate((smallwall.holds, cell.holds))\n",
    "        self.hold_cords = []\n",
    "        for i in range(self.total_holds):\n",
    "            self.hold_cords.append([self.x[i], self.y[i]])\n",
    "        \n",
    "    def show(self, show_scale = 1, title = 'Rock Wall'):\n",
    "        '''Plots Wall with all holds shown'''\n",
    "        fig = plt.figure(figsize = (10*show_scale, len(self.x)*show_scale))\n",
    "        sns.scatterplot(x = self.x,y = self.y, hue = self.hold_types, style = self.hold_types, palette = 'bright', s = 100)\n",
    "        plt.axis([0,10, 0, 10*self.num_cells])\n",
    "        plt.title(title)\n",
    "        plt.show()\n",
    "        \n",
    "    def run_wall(self, climber):\n",
    "        '''Takes in a climber object and simulates the climber attempting to climb the wall. \n",
    "        Returns a list of all points the holder occupied during their path'''\n",
    "        path = []\n",
    "        status = \"stuck\"\n",
    "        while status == \"stuck\":\n",
    "            path.append(climber.position)\n",
    "            status = climber.make_move(self.holds)\n",
    "        climber.set_position()\n",
    "        return path\n",
    "    \n",
    "#     def plot_path(self, path, show_scale = 1, title = 'Rock Wall'):\n",
    "#         '''Plots wall along with climber path for the given path'''\n",
    "#         sns.scatterplot(x = self.x,y = self.y, hue = self.hold_types, style = self.hold_types, palette = 'bright', s = 100)\n",
    "#         plt.axis([0,10, 0, 10*self.num_cells])\n",
    "#         plt.title(title)\n",
    "        \n",
    "#         for i in range(len(path)):\n",
    "#             part_path = path[0:i]\n",
    "#             plt.plot(*zip(*part_path))\n",
    "#             plt.pause(0.05)\n",
    "#         plt.show()\n",
    "    \n",
    "    def plot_path(self, path, show_scale = 1, title = 'Rock Wall'):\n",
    "        '''Plots wall along with climber path for the given path'''\n",
    "        part_path = path[0:2]\n",
    "        \n",
    "        plt.ion()\n",
    "        \n",
    "        fig, ax = plt.subplots(figsize = (10*show_scale, len(self.x)*show_scale))\n",
    "        line, = ax.plot([], [], 'g', lw = 2)\n",
    "        \n",
    "        sns.scatterplot(x = self.x,y = self.y, hue = self.hold_types, style = self.hold_types, palette = 'bright', s = 100)\n",
    "        ax.set_xlim([0, 10])\n",
    "        ax.set_ylim([0, 10*self.num_cells])\n",
    "        ax.set_title(title)\n",
    "        \n",
    "        \n",
    "        for i in range(len(path)):\n",
    "            x, y = path[i]\n",
    "            line.set_data(path[:i+1, 0], path[:i+1, 1])\n",
    "            plt.draw()\n",
    "            time.sleep(0.1)\n",
    "\n",
    "        plt.show()\n",
    "        \n",
    "#         def update(i):\n",
    "#             x, y = path[:i+1].T\n",
    "#             line.set_data(x, y)\n",
    "\n",
    "#         ani = animation.FuncAnimation(fig, update, frames=len(path), interval=100, repeat=False)\n",
    "\n",
    "#         plt.show()\n",
    "        \n",
    "#         for i in range(len(path)):\n",
    "#             x, y = path[i]\n",
    "            \n",
    "#             line.set_xdata(list(line.get_xdata())+[x])\n",
    "#             line.set_ydata(list(line.get_ydata())+[y])\n",
    "\n",
    "#             fig.canvas.draw()\n",
    "#             fig.canvas.flush_events()\n",
    "#             time.sleep(1)"
   ]
  },
  {
   "cell_type": "markdown",
   "id": "ebf3db62",
   "metadata": {},
   "source": [
    "Below are all of the functions we use"
   ]
  },
  {
   "cell_type": "code",
   "execution_count": 38,
   "id": "07fb4202",
   "metadata": {},
   "outputs": [],
   "source": [
    "##Notes\n",
    "##We decided two holds being placed in the same location is appropriate given that many climbing gyms will drill one hold on \n",
    "##top of another to make the move easier/more attainable for different climbing types"
   ]
  },
  {
   "cell_type": "code",
   "execution_count": 39,
   "id": "e109e7f1",
   "metadata": {},
   "outputs": [],
   "source": [
    "def create_wall(cells, slopers, crimps, jugs):\n",
    "    '''Creates a wall with given specifications'''\n",
    "    cell1 = Cell(slopers, crimps, jugs)\n",
    "    cell2 = Cell(slopers, crimps, jugs, 10)\n",
    "    smallwall = Wall(cell1,cell2)\n",
    "    for i in range(cells-2):\n",
    "        cell1 = cell(slopers, crimps, jugs, (i+2)*10)\n",
    "        smallwall = wall(smallwall, cell1)\n",
    "    return smallwall"
   ]
  },
  {
   "cell_type": "code",
   "execution_count": 40,
   "id": "3fba737a",
   "metadata": {},
   "outputs": [],
   "source": [
    "def create_climbers(n, reach, sloper, crimp, jug):\n",
    "    '''Each input other than n is a list of 2 numbers, a min and a max for that attribute\n",
    "        Creates a list of n climbers with attributes '''\n",
    "    climber_list = []\n",
    "    for i in range(n):\n",
    "        reach1 = random.uniform(reach[0], reach[1])\n",
    "        sloper1 = random.uniform(sloper[0], sloper[1])\n",
    "        crimp1 = random.uniform(crimp[0], crimp[1])\n",
    "        jug1 = random.uniform(jug[0], jug[1])\n",
    "        climber1 = Climber(reach1, sloper1, crimp1, jug1)\n",
    "        climber_list.append(climber1)\n",
    "    return climber_list"
   ]
  },
  {
   "cell_type": "code",
   "execution_count": 41,
   "id": "1d0097e7",
   "metadata": {},
   "outputs": [],
   "source": [
    "def simulate(climbers, walls):\n",
    "    '''Takes in a list of climbers and walls, runs all climbers on all walls, keeping track of how high they made it'''\n",
    "    for wall in walls:\n",
    "        for climber in climbers:\n",
    "            path = wall.run_wall(climber)\n",
    "            height = path[-1][1]\n",
    "            climber.heights.append(height)\n",
    "            "
   ]
  },
  {
   "cell_type": "markdown",
   "id": "0136f612",
   "metadata": {},
   "source": [
    "Example showing our code in action (one wall, one climber, plot path)"
   ]
  },
  {
   "cell_type": "code",
   "execution_count": 42,
   "id": "e6944f8f",
   "metadata": {
    "scrolled": false
   },
   "outputs": [
    {
     "ename": "TypeError",
     "evalue": "list indices must be integers or slices, not tuple",
     "output_type": "error",
     "traceback": [
      "\u001b[0;31m---------------------------------------------------------------------------\u001b[0m",
      "\u001b[0;31mTypeError\u001b[0m                                 Traceback (most recent call last)",
      "\u001b[0;32m<ipython-input-42-93ad9c5cd581>\u001b[0m in \u001b[0;36m<module>\u001b[0;34m\u001b[0m\n\u001b[1;32m      7\u001b[0m \u001b[0mclimber1\u001b[0m \u001b[0;34m=\u001b[0m \u001b[0mClimber\u001b[0m\u001b[0;34m(\u001b[0m\u001b[0;36m5\u001b[0m\u001b[0;34m,\u001b[0m \u001b[0;36m0.8\u001b[0m\u001b[0;34m,\u001b[0m \u001b[0;36m0.8\u001b[0m\u001b[0;34m,\u001b[0m \u001b[0;36m0.8\u001b[0m\u001b[0;34m)\u001b[0m\u001b[0;34m\u001b[0m\u001b[0;34m\u001b[0m\u001b[0m\n\u001b[1;32m      8\u001b[0m \u001b[0;31m#wall1.show()\u001b[0m\u001b[0;34m\u001b[0m\u001b[0;34m\u001b[0m\u001b[0;34m\u001b[0m\u001b[0m\n\u001b[0;32m----> 9\u001b[0;31m \u001b[0mwall1\u001b[0m\u001b[0;34m.\u001b[0m\u001b[0mplot_path\u001b[0m\u001b[0;34m(\u001b[0m\u001b[0mwall1\u001b[0m\u001b[0;34m.\u001b[0m\u001b[0mrun_wall\u001b[0m\u001b[0;34m(\u001b[0m\u001b[0mclimber1\u001b[0m\u001b[0;34m)\u001b[0m\u001b[0;34m,\u001b[0m \u001b[0mshow_scale\u001b[0m \u001b[0;34m=\u001b[0m \u001b[0;36m0.25\u001b[0m\u001b[0;34m)\u001b[0m\u001b[0;34m\u001b[0m\u001b[0;34m\u001b[0m\u001b[0m\n\u001b[0m",
      "\u001b[0;32m<ipython-input-37-a13e60515fd5>\u001b[0m in \u001b[0;36mplot_path\u001b[0;34m(self, path, show_scale, title)\u001b[0m\n\u001b[1;32m     67\u001b[0m         \u001b[0;32mfor\u001b[0m \u001b[0mi\u001b[0m \u001b[0;32min\u001b[0m \u001b[0mrange\u001b[0m\u001b[0;34m(\u001b[0m\u001b[0mlen\u001b[0m\u001b[0;34m(\u001b[0m\u001b[0mpath\u001b[0m\u001b[0;34m)\u001b[0m\u001b[0;34m)\u001b[0m\u001b[0;34m:\u001b[0m\u001b[0;34m\u001b[0m\u001b[0;34m\u001b[0m\u001b[0m\n\u001b[1;32m     68\u001b[0m             \u001b[0mx\u001b[0m\u001b[0;34m,\u001b[0m \u001b[0my\u001b[0m \u001b[0;34m=\u001b[0m \u001b[0mpath\u001b[0m\u001b[0;34m[\u001b[0m\u001b[0mi\u001b[0m\u001b[0;34m]\u001b[0m\u001b[0;34m\u001b[0m\u001b[0;34m\u001b[0m\u001b[0m\n\u001b[0;32m---> 69\u001b[0;31m             \u001b[0mline\u001b[0m\u001b[0;34m.\u001b[0m\u001b[0mset_data\u001b[0m\u001b[0;34m(\u001b[0m\u001b[0mpath\u001b[0m\u001b[0;34m[\u001b[0m\u001b[0;34m:\u001b[0m\u001b[0mi\u001b[0m\u001b[0;34m+\u001b[0m\u001b[0;36m1\u001b[0m\u001b[0;34m,\u001b[0m \u001b[0;36m0\u001b[0m\u001b[0;34m]\u001b[0m\u001b[0;34m,\u001b[0m \u001b[0mpath\u001b[0m\u001b[0;34m[\u001b[0m\u001b[0;34m:\u001b[0m\u001b[0mi\u001b[0m\u001b[0;34m+\u001b[0m\u001b[0;36m1\u001b[0m\u001b[0;34m,\u001b[0m \u001b[0;36m1\u001b[0m\u001b[0;34m]\u001b[0m\u001b[0;34m)\u001b[0m\u001b[0;34m\u001b[0m\u001b[0;34m\u001b[0m\u001b[0m\n\u001b[0m\u001b[1;32m     70\u001b[0m             \u001b[0mplt\u001b[0m\u001b[0;34m.\u001b[0m\u001b[0mdraw\u001b[0m\u001b[0;34m(\u001b[0m\u001b[0;34m)\u001b[0m\u001b[0;34m\u001b[0m\u001b[0;34m\u001b[0m\u001b[0m\n\u001b[1;32m     71\u001b[0m             \u001b[0mtime\u001b[0m\u001b[0;34m.\u001b[0m\u001b[0msleep\u001b[0m\u001b[0;34m(\u001b[0m\u001b[0;36m0.1\u001b[0m\u001b[0;34m)\u001b[0m\u001b[0;34m\u001b[0m\u001b[0;34m\u001b[0m\u001b[0m\n",
      "\u001b[0;31mTypeError\u001b[0m: list indices must be integers or slices, not tuple"
     ]
    },
    {
     "data": {
      "image/png": "[encoded data removed]",
      "text/plain": [
       "<Figure size 180x1134 with 1 Axes>"
      ]
     },
     "metadata": {
      "needs_background": "light"
     },
     "output_type": "display_data"
    }
   ],
   "source": [
    "cell1 = Cell(7,7,7)\n",
    "cell2 = Cell(7,7,7,10)\n",
    "cell3 = Cell(7,7,7,20)\n",
    "wall1 = Wall(cell1, cell2)\n",
    "wall1 = Wall(wall1, cell3)\n",
    "#plt.legend\n",
    "climber1 = Climber(5, 0.8, 0.8, 0.8)\n",
    "#wall1.show()\n",
    "wall1.plot_path(wall1.run_wall(climber1), show_scale = 0.25)"
   ]
  },
  {
   "cell_type": "code",
   "execution_count": 36,
   "id": "ecccffa4",
   "metadata": {},
   "outputs": [
    {
     "data": {
      "text/plain": [
       "[array([5, 0]),\n",
       " array([6, 3]),\n",
       " array([6, 4]),\n",
       " array([5, 6]),\n",
       " array([5, 7]),\n",
       " array([3, 9]),\n",
       " array([ 3, 10]),\n",
       " array([ 1, 12]),\n",
       " array([ 1, 13]),\n",
       " array([ 1, 14]),\n",
       " array([ 2, 15]),\n",
       " array([ 2, 17]),\n",
       " array([ 4, 19]),\n",
       " array([ 6, 20]),\n",
       " array([ 7, 21]),\n",
       " array([ 8, 22]),\n",
       " array([ 9, 23])]"
      ]
     },
     "execution_count": 36,
     "metadata": {},
     "output_type": "execute_result"
    }
   ],
   "source": [
    "wall1.run_wall(climber1)"
   ]
  },
  {
   "cell_type": "markdown",
   "id": "878f6d08",
   "metadata": {},
   "source": [
    "Simulation with 100 Climbers, 20 walls (generating data)"
   ]
  },
  {
   "cell_type": "code",
   "execution_count": 183,
   "id": "91efdfe2",
   "metadata": {
    "scrolled": false
   },
   "outputs": [
    {
     "name": "stdout",
     "output_type": "stream",
     "text": [
      "93.1\n",
      "86.1\n",
      "71.6\n",
      "53.9\n",
      "70.3\n",
      "86.8\n",
      "34.9\n",
      "64.9\n",
      "36.3\n",
      "91.1\n"
     ]
    }
   ],
   "source": [
    "walls = []\n",
    "for i in range(10):\n",
    "    walls.append(create_wall(10,7,7,7))\n",
    "climbers = create_climbers(10,[6,8],[0.5,0.8],[0.5,0.8],[0.5,0.8])\n",
    "simulate(climbers, walls)\n",
    "for climber in climbers:\n",
    "    print(climber.average_h())\n"
   ]
  },
  {
   "cell_type": "markdown",
   "id": "2f5c46f7",
   "metadata": {},
   "source": [
    "Data Analysis Code"
   ]
  },
  {
   "cell_type": "code",
   "execution_count": null,
   "id": "54aaf5c9",
   "metadata": {},
   "outputs": [],
   "source": []
  }
 ],
 "metadata": {
  "kernelspec": {
   "display_name": "Python 3",
   "language": "python",
   "name": "python3"
  },
  "language_info": {
   "codemirror_mode": {
    "name": "ipython",
    "version": 3
   },
   "file_extension": ".py",
   "mimetype": "text/x-python",
   "name": "python",
   "nbconvert_exporter": "python",
   "pygments_lexer": "ipython3",
   "version": "3.8.8"
  }
 },
 "nbformat": 4,
 "nbformat_minor": 5
}
